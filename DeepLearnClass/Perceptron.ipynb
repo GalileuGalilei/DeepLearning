{
 "cells": [
  {
   "cell_type": "code",
   "execution_count": 3,
   "metadata": {},
   "outputs": [],
   "source": [
    "import numpy as np"
   ]
  },
  {
   "cell_type": "code",
   "execution_count": 4,
   "metadata": {},
   "outputs": [],
   "source": [
    "def sigmoid(x):\n",
    "    return 1 / (1 + np.exp(-x))"
   ]
  },
  {
   "cell_type": "code",
   "execution_count": 25,
   "metadata": {},
   "outputs": [],
   "source": [
    "class Perceptron():\n",
    "    def __init__(self, n_inputs=3, n_hidden=4, n_outputs=3) -> None:\n",
    "        # Sinapsis\n",
    "        self.weights_input_hidden = np.array([[1.12,0.92,1.28],[-0.88,-1.02,-1.46],[1.06,0.63,0.38],[-1.5,-1.99,-2.31]])\n",
    "        self.weights_hidden_output = np.array([[0.54,2.51,-1.81,5.15],[-6.22,-4.08,1.75,-3.47],[5.89,1.58,-1.72,-4.06]])\n",
    "\n",
    "        # Bias\n",
    "        self.bias_hidden = np.array([[-8.86],[+4.36],[-1.87],[+4.79]])\n",
    "        self.bias_output =  np.array([[-0.82],[0.76],[-1.35]])\n",
    "\n",
    "    def feed_forward(self, inputs):\n",
    "        inputs = inputs.reshape(-1,1)\n",
    "\n",
    "        # Feed Forward\n",
    "        hidden_layer = sigmoid(np.dot(self.weights_input_hidden, inputs) + self.bias_hidden)\n",
    "        output_layer = sigmoid(np.dot(self.weights_hidden_output, hidden_layer) + self.bias_output)\n",
    "\n",
    "        return output_layer        "
   ]
  },
  {
   "cell_type": "code",
   "execution_count": 28,
   "metadata": {},
   "outputs": [
    {
     "data": {
      "text/plain": [
       "array([[0.10034973],\n",
       "       [0.10042717],\n",
       "       [0.79839896]])"
      ]
     },
     "execution_count": 28,
     "metadata": {},
     "output_type": "execute_result"
    }
   ],
   "source": [
    "p = Perceptron()\n",
    "p.feed_forward(np.array([3,3,3]))"
   ]
  }
 ],
 "metadata": {
  "kernelspec": {
   "display_name": "Python 3",
   "language": "python",
   "name": "python3"
  },
  "language_info": {
   "codemirror_mode": {
    "name": "ipython",
    "version": 3
   },
   "file_extension": ".py",
   "mimetype": "text/x-python",
   "name": "python",
   "nbconvert_exporter": "python",
   "pygments_lexer": "ipython3",
   "version": "3.11.5"
  },
  "orig_nbformat": 4
 },
 "nbformat": 4,
 "nbformat_minor": 2
}
